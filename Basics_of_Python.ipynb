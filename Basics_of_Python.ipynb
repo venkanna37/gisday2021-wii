{
  "nbformat": 4,
  "nbformat_minor": 0,
  "metadata": {
    "kernelspec": {
      "display_name": "Python 3",
      "language": "python",
      "name": "python3"
    },
    "language_info": {
      "codemirror_mode": {
        "name": "ipython",
        "version": 3
      },
      "file_extension": ".py",
      "mimetype": "text/x-python",
      "name": "python",
      "nbconvert_exporter": "python",
      "pygments_lexer": "ipython3",
      "version": "3.6.13"
    },
    "colab": {
      "name": "Basics of Python.ipynb",
      "provenance": []
    }
  },
  "cells": [
    {
      "cell_type": "markdown",
      "metadata": {
        "id": "M4b-Qx95k60L"
      },
      "source": [
        "## Basics of Python\n",
        "1. print\n",
        "2. Comments\n",
        "3. Variables\n",
        "4. Operators (a. Arithmatic, b. realational operators) \n",
        "5. Conditions\n",
        "6. Loops\n",
        "7. List and tuples\n",
        "8. Functions\n",
        "9. Classes"
      ]
    },
    {
      "cell_type": "markdown",
      "metadata": {
        "id": "tBQ0e09ok60R"
      },
      "source": [
        "### 1. print\n",
        "* We use print term to communicate with the computer\n",
        "* Ex: print text, numbers and etc.."
      ]
    },
    {
      "cell_type": "code",
      "metadata": {
        "id": "7m9uhf2zk60V",
        "outputId": "3bf059b4-a678-43e1-8b62-8a0192016bc1"
      },
      "source": [
        "print(\"Hello World!\")"
      ],
      "execution_count": null,
      "outputs": [
        {
          "name": "stdout",
          "output_type": "stream",
          "text": [
            "Hello World!\n"
          ]
        }
      ]
    },
    {
      "cell_type": "markdown",
      "metadata": {
        "id": "mI3Wr_owk60Z"
      },
      "source": [
        "### 2. Comments\n",
        "* Comment is a text within the program that is not executed\n",
        "* Python does not have an option to write comments in multiline\n",
        "* Docstring can be used add multiple lines in function (One example added in Functions sections)"
      ]
    },
    {
      "cell_type": "code",
      "metadata": {
        "id": "hexiPehlk60b",
        "outputId": "e30910a5-a6e6-4282-df63-9be905d12624"
      },
      "source": [
        "# This line does not execute\n",
        "print(\"Hello World!\")"
      ],
      "execution_count": null,
      "outputs": [
        {
          "name": "stdout",
          "output_type": "stream",
          "text": [
            "Hello World!\n"
          ]
        }
      ]
    },
    {
      "cell_type": "markdown",
      "metadata": {
        "id": "M1HAbS5Qk60d"
      },
      "source": [
        "## 3. Variables\n",
        "* Variables used to store the data that will be used by the program\n",
        "* The data can be a number, string, boolean, list or other data type\n",
        "* = sign is used to assign value to variable"
      ]
    },
    {
      "cell_type": "code",
      "metadata": {
        "id": "XWjawCKpk60f"
      },
      "source": [
        "# Example variables are (buffer, lattitude and longitude)\n",
        "buffer = 1000         # Integer\n",
        "lattitude = 30.316496\n",
        "longitude = 78.032188 # float\n",
        "place = 'Dehradun'    # string datatype and it is enclosed in single or double quote\n",
        "do_buffer = True      #  Boolean datatype\n",
        "lat_long = [lattitude, longitude]\n",
        "lat_long2 = (lattitude, longitude)\n",
        "sar_pixel_value = 3 + 4j"
      ],
      "execution_count": null,
      "outputs": []
    },
    {
      "cell_type": "markdown",
      "metadata": {
        "id": "KZeUYbSVk60h"
      },
      "source": [
        "### Check the data type of each variable"
      ]
    },
    {
      "cell_type": "code",
      "metadata": {
        "id": "-S9HlNGLk60j",
        "outputId": "ec9f749c-0dd7-4334-bf9e-70b64ecbeec5"
      },
      "source": [
        "print(type(buffer))\n",
        "print(type(lattitude))\n",
        "print(type(place))\n",
        "print(type(do_buffer))\n",
        "print(type(lat_long))\n",
        "print(type(lat_long2))\n",
        "print(type(sar_pixel_value))"
      ],
      "execution_count": null,
      "outputs": [
        {
          "name": "stdout",
          "output_type": "stream",
          "text": [
            "<class 'int'>\n",
            "<class 'float'>\n",
            "<class 'str'>\n",
            "<class 'bool'>\n",
            "<class 'list'>\n",
            "<class 'tuple'>\n",
            "<class 'complex'>\n"
          ]
        }
      ]
    },
    {
      "cell_type": "markdown",
      "metadata": {
        "id": "abC_tNFCk60n"
      },
      "source": [
        "## 4. Operators\n",
        "### a. Arithmatic Operators\n",
        "* Arithmatic operations used perform arithmatic operations on literal numbers, variables, or some other data types\n",
        "* The primary operators are \n",
        "addition (+), subtraction (-), multiplication (\"*\"), dividion (/), modulus (%), exponentian (\"**\")"
      ]
    },
    {
      "cell_type": "code",
      "metadata": {
        "id": "H4vah1Fgk60o",
        "outputId": "2f34b9f8-c17d-41c0-8295-aabb40cca131"
      },
      "source": [
        "# Example-1 calculating NDVI value\n",
        "red, nir = 50, 200\n",
        "ndvi = (nir-red)/(nir + red)\n",
        "print(\"NDVI: \", ndvi)\n",
        "\n",
        "# Example-2 calculting decimal values from degrees, minutes and seconds\n",
        "lattitude = \"30 degrees, 30 minutes, 45 seconds\"\n",
        "longitude = \"78 degrees, 30 minutes, 45 seconds\"\n",
        "\n",
        "lat_decimal = 30 + 30/60 + 45/3600\n",
        "print(\"Decimal lattitude: \", lat_decimal)"
      ],
      "execution_count": null,
      "outputs": [
        {
          "name": "stdout",
          "output_type": "stream",
          "text": [
            "NDVI:  0.6\n",
            "Decimal lattitude:  30.5125\n"
          ]
        }
      ]
    },
    {
      "cell_type": "markdown",
      "metadata": {
        "id": "fd0QXSjqk60p"
      },
      "source": [
        "### Exercises:\n",
        "1. Find the decimal longitude from the above longitude string\n",
        "2. Find the Enhanced Vegetation Index (EVI) from the above red and nir values\n",
        "* Formula: https://en.wikipedia.org/wiki/Enhanced_vegetation_index"
      ]
    },
    {
      "cell_type": "code",
      "metadata": {
        "id": "ug45coHuk60q"
      },
      "source": [
        ""
      ],
      "execution_count": null,
      "outputs": []
    },
    {
      "cell_type": "markdown",
      "metadata": {
        "id": "NB8Jsk1wk60q"
      },
      "source": [
        "### b. Relational Operator\n",
        "* It is used for comparing the values. It either returns True or False according to the condition.\n",
        "\n",
        "* (<) Less than: True if the left operand is less than the right\n",
        "* (>) greater than: True if the left operand is greater than the right\n",
        "* (==) Equal to: True if both operands are equal\n",
        "* (!=) Not equal to – True if operands are not equal\n",
        "* (>=) Greater than or equal to: True if left operand is greater than or equal to the right\n",
        "* (<=) Less than or equal to: True if left operand is less than or equal to the right"
      ]
    },
    {
      "cell_type": "code",
      "metadata": {
        "id": "cYh0mkWJk606",
        "outputId": "5cb89166-8845-4b4e-d75b-ad24570f6cc1"
      },
      "source": [
        "area = 20  # Assume sq.km\n",
        "area_of_small_patch = 1\n",
        "\n",
        "print(area > area_of_small_patch)\n",
        "print(area < area_of_small_patch)\n",
        "print(area != area_of_small_patch)"
      ],
      "execution_count": null,
      "outputs": [
        {
          "name": "stdout",
          "output_type": "stream",
          "text": [
            "True\n",
            "False\n",
            "True\n"
          ]
        }
      ]
    },
    {
      "cell_type": "code",
      "metadata": {
        "id": "Y1lCIiBWk607",
        "outputId": "f907bc45-c20e-43a0-a384-4a2d065ddccc"
      },
      "source": [
        "# Guess which python version you are using\n",
        "your_guess = \"remove this text and add version number\"\n",
        "\n",
        "import sys\n",
        "print(your_guess == sys.version)\n",
        "print(\"You are using: \", sys.version)"
      ],
      "execution_count": null,
      "outputs": [
        {
          "name": "stdout",
          "output_type": "stream",
          "text": [
            "False\n"
          ]
        }
      ]
    },
    {
      "cell_type": "markdown",
      "metadata": {
        "id": "BH_Vh9Gjk609"
      },
      "source": [
        "### c. Logical Operator\n",
        "* In Python, Logical operators are used on conditional statements (either True or False). They perform Logical AND, Logical OR and Logical NOT operations.\n",
        "* Logical AND operator (and) = Logical operator returns True if both the operands are True else it returns False.\n",
        "* Logical OR operator (or) = Logical or operator returns True if either of the operands is True.\n",
        "* Logical NOT operator (not) = Logical not operator work with the single boolean value. If the boolean value is True it returns False and vice-versa.\n"
      ]
    },
    {
      "cell_type": "code",
      "metadata": {
        "id": "V129tJ5Ck609",
        "outputId": "f5b128e8-b67b-49b5-cefd-1a3245a7f891"
      },
      "source": [
        "# Example: Assume you are having N number of polygon with area of forest, area of water and maximum ndvi value\n",
        "# Logical operators use to filter with multiple condition\n",
        "\n",
        "polygon1_fa = 200 # assume area of forest (sq.km)\n",
        "polygon1_wa = 10\n",
        "polygon1_ndvi = 0.9\n",
        "\n",
        "print((polygon1_fa > 100 and polygon1_wa > 5))\n",
        "print((polygon1_fa == 100 and polygon1_wa != 5))"
      ],
      "execution_count": null,
      "outputs": [
        {
          "name": "stdout",
          "output_type": "stream",
          "text": [
            "True\n",
            "False\n"
          ]
        }
      ]
    },
    {
      "cell_type": "code",
      "metadata": {
        "id": "Hr4H3xAYk60-"
      },
      "source": [
        "# try below code and check the output\n",
        "print(True and False) # and operator\n",
        "print(True or False) # or operator\n",
        "print(not True) # not operator"
      ],
      "execution_count": null,
      "outputs": []
    },
    {
      "cell_type": "markdown",
      "metadata": {
        "id": "T94c8A1fk60_"
      },
      "source": [
        "## 5. Decision Making (If condition)\n",
        "* Decision making is required when we want to execute a code only if a certain condition is satisfied.\n",
        "* The if…elif…else statement is used in Python for decision making.\n",
        "* statement that return true will execute and only one statementt will execute."
      ]
    },
    {
      "cell_type": "code",
      "metadata": {
        "id": "MyhxTsZLk60_",
        "outputId": "8655964c-2154-40a8-bc1c-0b895dc9182c"
      },
      "source": [
        "forest_area_2000 = 50 # Assume sq.km as units\n",
        "forest_area_2010 = 40\n",
        "forest_area_2000 = 15\n",
        "\n",
        "forest_area = forest_area_2010\n",
        "\n",
        "if forest_area == 50:\n",
        "    print(\"There is no deforestation\")\n",
        "elif forest_area < 50 and forest_area > 50/2:\n",
        "    print(\"There is deforestation but less than half\")\n",
        "elif forest_area < 50/2:\n",
        "    print(\"There is deforestation more than half\")\n",
        "else:\n",
        "    print(\"There is reforestation\")"
      ],
      "execution_count": null,
      "outputs": [
        {
          "name": "stdout",
          "output_type": "stream",
          "text": [
            "There is deforestation but less than half\n"
          ]
        }
      ]
    },
    {
      "cell_type": "markdown",
      "metadata": {
        "id": "5kNMg66sk61A"
      },
      "source": [
        "## 6. List  and Tuples\n",
        "\n",
        "* These are used to store multiple values unlike primitive variables that holds only single value\n",
        "* Our list start with index 0 and by using index we can access particular index value\n",
        "* Syntax for list enclosed in  square bracket.\n",
        "* Syntax for tuple enclosed in parenthesis.\n",
        "\n",
        "#### Difference between list and tuples\n",
        "\n",
        "* List we can modify but we cannot modify tuples\n",
        "* Size taken by tuples are less than size taken by list\n"
      ]
    },
    {
      "cell_type": "code",
      "metadata": {
        "id": "UqmQcojSk61A",
        "outputId": "a8a3d478-2182-464f-ee27-9bacfd2e1688"
      },
      "source": [
        "country_list = ['India', 'United State', 'Australia', 'Sri Lanka']  # this is how list defined, can be number and both\n",
        "# print list \n",
        "print(country_list)\n",
        "print(\"\\n\")\n",
        "\n",
        "# Get the value with index and print\n",
        "print(country_list[0])\n",
        "print(country_list[3])\n",
        "print(\"\\n\")\n",
        "\n",
        "# Replace values index with and print entire list\n",
        "country_list[3] = 'Bangladesh'  # we can modify list\n",
        "print(country_list)\n",
        "print(\"\\n\")\n",
        "\n",
        "# Slice list\n",
        "print(country_list[1:3])\n",
        "print(country_list[1:])\n",
        "print(country_list[:2])"
      ],
      "execution_count": null,
      "outputs": [
        {
          "name": "stdout",
          "output_type": "stream",
          "text": [
            "['India', 'United State', 'Australia', 'Sri Lanka']\n",
            "\n",
            "\n",
            "India\n",
            "Sri Lanka\n",
            "\n",
            "\n",
            "['India', 'United State', 'Australia', 'Bangladesh']\n",
            "\n",
            "\n",
            "['United State', 'Australia']\n",
            "['United State', 'Australia', 'Bangladesh']\n",
            "['India', 'United State']\n"
          ]
        }
      ]
    },
    {
      "cell_type": "markdown",
      "metadata": {
        "id": "ZEmTKCtfk61B"
      },
      "source": [
        "## 7.  Loops\n",
        "\n",
        "* If we need to iterate over list, tuples,string etc  or to do same task multiple time we can use loops for it."
      ]
    },
    {
      "cell_type": "code",
      "metadata": {
        "id": "O3GBIFRLk61C",
        "outputId": "168cdba6-2b37-47d0-8e2b-8440f81a39fc"
      },
      "source": [
        "for i in range(10): # syntax range(10) determine range from 0 to till the number inside range in our case we have 10 and i hold the current number we can name i anything \n",
        "    print('india') # it will print india 10 times\n",
        "print(\"\\n\")\n",
        "\n",
        "# Interate through list of countries\n",
        "for current_country in country_list: # syntax for iterating over list\n",
        "    print(current_country)"
      ],
      "execution_count": null,
      "outputs": [
        {
          "name": "stdout",
          "output_type": "stream",
          "text": [
            "india\n",
            "india\n",
            "india\n",
            "india\n",
            "india\n",
            "india\n",
            "india\n",
            "india\n",
            "india\n",
            "india\n",
            "\n",
            "\n",
            "India\n",
            "United State\n",
            "Australia\n",
            "Bangladesh\n"
          ]
        }
      ]
    },
    {
      "cell_type": "markdown",
      "metadata": {
        "id": "msd05ej8k61C"
      },
      "source": [
        "### Excersice:\n",
        "Create a list of with animal speces and print in a order like above"
      ]
    },
    {
      "cell_type": "code",
      "metadata": {
        "id": "qufAkFHDk61C"
      },
      "source": [
        ""
      ],
      "execution_count": null,
      "outputs": []
    },
    {
      "cell_type": "markdown",
      "metadata": {
        "id": "BHrCtEpxk61D"
      },
      "source": [
        "## 8. Functions\n",
        "\n",
        "* A function is a block of code which only runs when it is called. You can pass data, known as parameters, into a function\n",
        "* A function can return data as a result.\n"
      ]
    },
    {
      "cell_type": "code",
      "metadata": {
        "id": "hOJQ6JiDk61D",
        "outputId": "78ffd650-0672-489f-9f20-243752ea921f"
      },
      "source": [
        "def add_function(a, b):\n",
        "    \"\"\"\n",
        "    If you want to explain code more clearly with \n",
        "    multiple lines of text, docstring can be used this is an example\n",
        "    \"\"\"\n",
        "    return a + b\n",
        "\n",
        "print(add_function(10, 11))\n",
        "print(add_function.__doc__)\n",
        "\n",
        "# This function add string\n",
        "def add_prefix_mr(name):\n",
        "    return 'Mr. '+ name # + operator in case of both string combine them\n",
        "\n",
        "return_value_by_function = add_prefix_mr('Venkanna') # this is how we call the function and pass argument to it inside paranthesis\n",
        "print(return_value_by_function)"
      ],
      "execution_count": null,
      "outputs": [
        {
          "name": "stdout",
          "output_type": "stream",
          "text": [
            "21\n",
            "\n",
            "    If you want to explain code more clearly with \n",
            "    multiple lines of text, docstring can be used this is an example\n",
            "    \n",
            "Mr. Venkanna\n"
          ]
        }
      ]
    },
    {
      "cell_type": "markdown",
      "metadata": {
        "id": "BUNZAiMTk61E"
      },
      "source": [
        "### Excercise:\n",
        "1. Create a function that multiply two numbers"
      ]
    },
    {
      "cell_type": "code",
      "metadata": {
        "id": "3r04yyGKk61E"
      },
      "source": [
        ""
      ],
      "execution_count": null,
      "outputs": []
    },
    {
      "cell_type": "markdown",
      "metadata": {
        "id": "mykyEbuPk61E"
      },
      "source": [
        "## 9. Classes\n",
        "\n",
        "* Classes are the blueprint that holds variables and functions\n",
        "* To use classes we create object and by object we can access variables and functions from the  class\n",
        "* we can create multiple object of the class"
      ]
    },
    {
      "cell_type": "code",
      "metadata": {
        "id": "uhEAWswQk61E",
        "outputId": "c2fbc48f-4795-4cfd-ca7e-86d1f8129550"
      },
      "source": [
        "class Tiger:\n",
        "    \n",
        "    def __init__(self, name, habitat, habitat_type): # counstructor function for default initialization this is the first thing that we run inside class and only one time\n",
        "        self.legs = 4\n",
        "        self.nose = 1\n",
        "        self.ear = 2\n",
        "        self.collared = 'yes'\n",
        "        self.habitat = habitat\n",
        "        self.habitat_type = habitat_type\n",
        "        self.name = name\n",
        "        \n",
        "    def legs_count(self):\n",
        "        print(self.legs)\n",
        "        \n",
        "    def print_name(self):\n",
        "        print(self.name)\n",
        "        \n",
        "\n",
        "# Creating object from Tiger class\n",
        "gabbar = Tiger('Gabbar', \"Tadoba Tiger Reserve\", \"Dry deciduous forest\") # this is how we create object from class\n",
        "\n",
        "# This is how we call class methods\n",
        "gabbar.legs_count()\n",
        "gabbar.print_name()\n",
        "\n",
        "print(\"\\n\")\n",
        "# This is how we call attributes from object\n",
        "print(\"Habitat: \", gabbar.habitat)\n",
        "print(\"Habitat Type: \", gabbar.habitat_type)"
      ],
      "execution_count": null,
      "outputs": [
        {
          "name": "stdout",
          "output_type": "stream",
          "text": [
            "4\n",
            "Gabbar\n",
            "\n",
            "\n",
            "Habitat:  Tadoba Tiger Reserve\n",
            "Habitat Type:  Dry deciduous forest\n"
          ]
        }
      ]
    },
    {
      "cell_type": "code",
      "metadata": {
        "id": "i71pk6XBk61G",
        "outputId": "75ba0e62-5bd5-4ca8-9929-93c1f4f43da0"
      },
      "source": [
        "import math\n",
        "\n",
        "class distance:\n",
        "    \n",
        "    def __init__(self, from_point, to_point):\n",
        "        self.from_point = from_point\n",
        "        self.to_point = to_point\n",
        "        \n",
        "    def dist(self):\n",
        "        x1 = self.from_point[0]\n",
        "        x2 = self.to_point[0]\n",
        "        y1 = self.from_point[1]\n",
        "        y2 = self.to_point[1]\n",
        "        dist_12 = math.sqrt(((x1-x2)**2) + ((y1-y2)**2))\n",
        "        return dist_12\n",
        "    \n",
        "from_point = [3, 4]\n",
        "to_point = [1, 1]\n",
        "\n",
        "dist_test = distance(from_point, to_point)\n",
        "print(dist_test.dist())"
      ],
      "execution_count": null,
      "outputs": [
        {
          "name": "stdout",
          "output_type": "stream",
          "text": [
            "3.605551275463989\n"
          ]
        }
      ]
    },
    {
      "cell_type": "markdown",
      "metadata": {
        "id": "JbwHyIskk61G"
      },
      "source": [
        "## Codecademy is one of the best source to learn Python\n",
        "\n",
        "* https://www.codecademy.com/\n",
        "* https://www.codecademy.com/catalog#\n",
        "* https://www.codecademy.com/learn/learn-python-3/modules/learn-python3-hello-world/cheatsheet"
      ]
    },
    {
      "cell_type": "code",
      "metadata": {
        "id": "hoMVhMC2k61G"
      },
      "source": [
        ""
      ],
      "execution_count": null,
      "outputs": []
    }
  ]
}