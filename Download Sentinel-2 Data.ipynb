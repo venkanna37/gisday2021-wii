{
 "cells": [
  {
   "cell_type": "markdown",
   "id": "0eeceb3b",
   "metadata": {},
   "source": [
    "## 1. Install and Import all required python libraries"
   ]
  },
  {
   "cell_type": "code",
   "execution_count": 1,
   "id": "20694544",
   "metadata": {},
   "outputs": [],
   "source": [
    "# Importing all libraries\n",
    "from sentinelsat import SentinelAPI, read_geojson, geojson_to_wkt\n",
    "from shapely.geometry import MultiPolygon, Polygon\n",
    "import shapely\n",
    "import geojson\n",
    "import glob\n",
    "from zipfile import ZipFile\n",
    "import matplotlib.pyplot as plt"
   ]
  },
  {
   "cell_type": "markdown",
   "id": "4c256399",
   "metadata": {},
   "source": [
    "## 2. Create an account in https://scihub.copernicus.eu/dhus/#/home and add username and password below"
   ]
  },
  {
   "cell_type": "code",
   "execution_count": 2,
   "id": "f33f4e02",
   "metadata": {},
   "outputs": [],
   "source": [
    "# Login with credentials\n",
    "user = 'Enter your Username'\n",
    "password = ' Enter your Password'\n",
    "api = SentinelAPI(user, password, 'https://scihub.copernicus.eu/dhus')"
   ]
  },
  {
   "cell_type": "markdown",
   "id": "098909a3",
   "metadata": {},
   "source": [
    "## 3. Search list of sensing images in Dehradun area with time, cloud cover, etc"
   ]
  },
  {
   "cell_type": "code",
   "execution_count": 3,
   "id": "73d169f4",
   "metadata": {},
   "outputs": [],
   "source": [
    "# read Geojson file\n",
    "aoi_gj = read_geojson('./vector_data/dehradun.geojson')\n",
    "# convert Geojson to shapely polygon format\n",
    "aoi_sh = shapely.geometry.Polygon(list(geojson.utils.coords(aoi_gj)))\n",
    "\n",
    "# search by polygon, time, and SciHub query keywords\n",
    "footprint = geojson_to_wkt(aoi_gj)\n",
    "products = api.query(footprint,\n",
    "                     date=('20210401', '20210410'),\n",
    "                     platformname='Sentinel-2',\n",
    "                     processinglevel='Level-2A',\n",
    "                     cloudcoverpercentage=(0, 10)\n",
    "                    )"
   ]
  },
  {
   "cell_type": "markdown",
   "id": "63b90805",
   "metadata": {},
   "source": [
    "## 4. Print list of queried images and image with less cloud cover"
   ]
  },
  {
   "cell_type": "code",
   "execution_count": 8,
   "id": "b5aa3aea",
   "metadata": {},
   "outputs": [
    {
     "name": "stdout",
     "output_type": "stream",
     "text": [
      "(2, 41)\n",
      "filename                S2A_MSIL2A_20210403T050651_N0300_R019_T43PHQ_2...\n",
      "cloudcoverpercentage                                              4.26719\n",
      "Name: 47b73e51-01ae-4647-87c2-1a9b790267e4, dtype: object\n"
     ]
    }
   ],
   "source": [
    "# sort images with the cloud percentage\n",
    "products_gdf = api.to_geodataframe(products)\n",
    "# print(products_gdf)\n",
    "print(products_gdf.shape)\n",
    "products_gdf_sorted = products_gdf.sort_values(['cloudcoverpercentage'], ascending=[True])\n",
    "# Cloud mask percentage\n",
    "temp = products_gdf_sorted[['filename', 'cloudcoverpercentage']]\n",
    "print(temp.iloc[0,:])"
   ]
  },
  {
   "cell_type": "markdown",
   "id": "0edf31ff",
   "metadata": {},
   "source": [
    "## 5. Plot list of queried images"
   ]
  },
  {
   "cell_type": "code",
   "execution_count": 12,
   "id": "52a8f440",
   "metadata": {},
   "outputs": [
    {
     "name": "stderr",
     "output_type": "stream",
     "text": [
      "C:\\Users\\Venky\\.conda\\envs\\senti\\lib\\site-packages\\ipykernel_launcher.py:4: MatplotlibDeprecationWarning: The 's' parameter of annotate() has been renamed 'text' since Matplotlib 3.3; support for the old name will be dropped two minor releases later.\n",
      "  after removing the cwd from sys.path.\n"
     ]
    },
    {
     "data": {
      "text/plain": [
       "47b73e51-01ae-4647-87c2-1a9b790267e4    Annotation(78.2715, 13.0511, '47b73e51-01ae-46...\n",
       "d7cc8c2b-edec-4468-b345-f94a324efe59    Annotation(77.357, 13.0557, 'd7cc8c2b-edec-446...\n",
       "dtype: object"
      ]
     },
     "execution_count": 12,
     "metadata": {},
     "output_type": "execute_result"
    },
    {
     "data": {
      "image/png": "[encoded data removed]",
      "text/plain": [
       "<Figure size 1440x1440 with 1 Axes>"
      ]
     },
     "metadata": {
      "needs_background": "light"
     },
     "output_type": "display_data"
    }
   ],
   "source": [
    "# products_gdf.plot(column='uuid', cmap=None)\n",
    "# areas = api.to_geodataframe(products_gdf)\n",
    "ax = products_gdf.plot(column='uuid', cmap=None, figsize=(20, 20))\n",
    "products_gdf.apply(lambda x: ax.annotate(s=x.uuid, xy=x.geometry.centroid.coords[0], ha='center'),axis=1)"
   ]
  },
  {
   "cell_type": "markdown",
   "id": "9fa48272",
   "metadata": {},
   "source": [
    "## 6. Download Image/Images"
   ]
  },
  {
   "cell_type": "code",
   "execution_count": 14,
   "id": "9366b0a0",
   "metadata": {},
   "outputs": [
    {
     "name": "stdout",
     "output_type": "stream",
     "text": [
      "Downloading 1 images\n"
     ]
    },
    {
     "ename": "LTATriggered",
     "evalue": "Product 47b73e51-01ae-4647-87c2-1a9b790267e4 is not online. Triggered retrieval from the Long Term Archive.",
     "output_type": "error",
     "traceback": [
      "\u001b[1;31m---------------------------------------------------------------------------\u001b[0m",
      "\u001b[1;31mLTATriggered\u001b[0m                              Traceback (most recent call last)",
      "\u001b[1;32m<ipython-input-14-88700fa18a9d>\u001b[0m in \u001b[0;36m<module>\u001b[1;34m()\u001b[0m\n\u001b[0;32m      4\u001b[0m \u001b[0mprint\u001b[0m\u001b[1;33m(\u001b[0m\u001b[1;34m\"Downloading \"\u001b[0m \u001b[1;33m+\u001b[0m \u001b[0mstr\u001b[0m\u001b[1;33m(\u001b[0m\u001b[0mnumber_of_images\u001b[0m\u001b[1;33m)\u001b[0m \u001b[1;33m+\u001b[0m \u001b[1;34m\" images\"\u001b[0m\u001b[1;33m)\u001b[0m\u001b[1;33m\u001b[0m\u001b[1;33m\u001b[0m\u001b[0m\n\u001b[0;32m      5\u001b[0m \u001b[1;32mfor\u001b[0m \u001b[0mi\u001b[0m \u001b[1;32min\u001b[0m \u001b[0mrange\u001b[0m\u001b[1;33m(\u001b[0m\u001b[0mnumber_of_images\u001b[0m\u001b[1;33m)\u001b[0m\u001b[1;33m:\u001b[0m\u001b[1;33m\u001b[0m\u001b[1;33m\u001b[0m\u001b[0m\n\u001b[1;32m----> 6\u001b[1;33m     \u001b[0mapi\u001b[0m\u001b[1;33m.\u001b[0m\u001b[0mdownload\u001b[0m\u001b[1;33m(\u001b[0m\u001b[0mproducts_gdf_sorted\u001b[0m\u001b[1;33m.\u001b[0m\u001b[0mindex\u001b[0m\u001b[1;33m[\u001b[0m\u001b[0mi\u001b[0m\u001b[1;33m]\u001b[0m\u001b[1;33m)\u001b[0m\u001b[1;33m\u001b[0m\u001b[1;33m\u001b[0m\u001b[0m\n\u001b[0m",
      "\u001b[1;32mC:\\Users\\Venky\\.conda\\envs\\senti\\lib\\site-packages\\sentinelsat\\sentinel.py\u001b[0m in \u001b[0;36mdownload\u001b[1;34m(self, id, directory_path, checksum, nodefilter)\u001b[0m\n\u001b[0;32m    583\u001b[0m         \u001b[0mdownloader\u001b[0m\u001b[1;33m.\u001b[0m\u001b[0mnode_filter\u001b[0m \u001b[1;33m=\u001b[0m \u001b[0mnodefilter\u001b[0m\u001b[1;33m\u001b[0m\u001b[1;33m\u001b[0m\u001b[0m\n\u001b[0;32m    584\u001b[0m         \u001b[0mdownloader\u001b[0m\u001b[1;33m.\u001b[0m\u001b[0mverify_checksum\u001b[0m \u001b[1;33m=\u001b[0m \u001b[0mchecksum\u001b[0m\u001b[1;33m\u001b[0m\u001b[1;33m\u001b[0m\u001b[0m\n\u001b[1;32m--> 585\u001b[1;33m         \u001b[1;32mreturn\u001b[0m \u001b[0mdownloader\u001b[0m\u001b[1;33m.\u001b[0m\u001b[0mdownload\u001b[0m\u001b[1;33m(\u001b[0m\u001b[0mid\u001b[0m\u001b[1;33m,\u001b[0m \u001b[0mdirectory_path\u001b[0m\u001b[1;33m)\u001b[0m\u001b[1;33m\u001b[0m\u001b[1;33m\u001b[0m\u001b[0m\n\u001b[0m\u001b[0;32m    586\u001b[0m \u001b[1;33m\u001b[0m\u001b[0m\n\u001b[0;32m    587\u001b[0m     \u001b[1;32mdef\u001b[0m \u001b[0m_get_filename\u001b[0m\u001b[1;33m(\u001b[0m\u001b[0mself\u001b[0m\u001b[1;33m,\u001b[0m \u001b[0mproduct_info\u001b[0m\u001b[1;33m)\u001b[0m\u001b[1;33m:\u001b[0m\u001b[1;33m\u001b[0m\u001b[1;33m\u001b[0m\u001b[0m\n",
      "\u001b[1;32mC:\\Users\\Venky\\.conda\\envs\\senti\\lib\\site-packages\\sentinelsat\\download.py\u001b[0m in \u001b[0;36mdownload\u001b[1;34m(self, id, directory, stop_event)\u001b[0m\n\u001b[0;32m    142\u001b[0m         \u001b[1;32mif\u001b[0m \u001b[1;32mnot\u001b[0m \u001b[0mself\u001b[0m\u001b[1;33m.\u001b[0m\u001b[0mapi\u001b[0m\u001b[1;33m.\u001b[0m\u001b[0mis_online\u001b[0m\u001b[1;33m(\u001b[0m\u001b[0mid\u001b[0m\u001b[1;33m)\u001b[0m\u001b[1;33m:\u001b[0m\u001b[1;33m\u001b[0m\u001b[1;33m\u001b[0m\u001b[0m\n\u001b[0;32m    143\u001b[0m             \u001b[0mself\u001b[0m\u001b[1;33m.\u001b[0m\u001b[0mtrigger_offline_retrieval\u001b[0m\u001b[1;33m(\u001b[0m\u001b[0mid\u001b[0m\u001b[1;33m)\u001b[0m\u001b[1;33m\u001b[0m\u001b[1;33m\u001b[0m\u001b[0m\n\u001b[1;32m--> 144\u001b[1;33m             \u001b[1;32mraise\u001b[0m \u001b[0mLTATriggered\u001b[0m\u001b[1;33m(\u001b[0m\u001b[0mid\u001b[0m\u001b[1;33m)\u001b[0m\u001b[1;33m\u001b[0m\u001b[1;33m\u001b[0m\u001b[0m\n\u001b[0m\u001b[0;32m    145\u001b[0m \u001b[1;33m\u001b[0m\u001b[0m\n\u001b[0;32m    146\u001b[0m         \u001b[0mself\u001b[0m\u001b[1;33m.\u001b[0m\u001b[0m_download_common\u001b[0m\u001b[1;33m(\u001b[0m\u001b[0mproduct_info\u001b[0m\u001b[1;33m,\u001b[0m \u001b[0mpath\u001b[0m\u001b[1;33m,\u001b[0m \u001b[0mstop_event\u001b[0m\u001b[1;33m)\u001b[0m\u001b[1;33m\u001b[0m\u001b[1;33m\u001b[0m\u001b[0m\n",
      "\u001b[1;31mLTATriggered\u001b[0m: Product 47b73e51-01ae-4647-87c2-1a9b790267e4 is not online. Triggered retrieval from the Long Term Archive."
     ]
    }
   ],
   "source": [
    "# download single image with less cloud cover\n",
    "directory = \"./raster_data\"\n",
    "number_of_images = 1\n",
    "print(\"Downloading \" + str(number_of_images) + \" images\")\n",
    "for i in range(number_of_images):\n",
    "    api.download(products_gdf_sorted.index[i])"
   ]
  },
  {
   "cell_type": "markdown",
   "id": "e202b661",
   "metadata": {},
   "source": [
    "## 7. Extract downloaded zip file"
   ]
  },
  {
   "cell_type": "code",
   "execution_count": null,
   "id": "1231b2f8",
   "metadata": {},
   "outputs": [],
   "source": [
    "# specifying the zip file name\n",
    "print('Extracting all zip files the files now...')\n",
    "for i in glob.glob(\"./raster_data/*.zip\"):\n",
    "    # opening the zip file in READ mode\n",
    "    with ZipFile(i, 'r') as zip:\n",
    "        # printing all the contents of the zip file\n",
    "        zip.printdir()\n",
    "        # extracting all the files\n",
    "        zip.extractall(\"./data\")\n",
    "        print(i, ' is extracted')"
   ]
  }
 ],
 "metadata": {
  "kernelspec": {
   "display_name": "Python 3",
   "language": "python",
   "name": "python3"
  },
  "language_info": {
   "codemirror_mode": {
    "name": "ipython",
    "version": 3
   },
   "file_extension": ".py",
   "mimetype": "text/x-python",
   "name": "python",
   "nbconvert_exporter": "python",
   "pygments_lexer": "ipython3",
   "version": "3.6.13"
  }
 },
 "nbformat": 4,
 "nbformat_minor": 5
}
